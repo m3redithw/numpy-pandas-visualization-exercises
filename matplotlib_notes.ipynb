{
 "cells": [
  {
   "cell_type": "markdown",
   "id": "37a95bdc",
   "metadata": {},
   "source": [
    "# Matplotlib\n",
    "Matplotlib is the de-facto library used in Python to create visualizations.\n",
    "\n",
    "There are two common approaches to plotting with Matplotlib.\n",
    "\n",
    "1. The pyplot API: pyplot is mainly intended for interactive plots and simple cases of programmatic plot generation.\n",
    "\n",
    "2. The object-oriented API: At its core, Matplotlib is object-oriented and this interface allows more control and customization of your plots.\n",
    "\n"
   ]
  },
  {
   "cell_type": "markdown",
   "id": "fba57482",
   "metadata": {},
   "source": [
    "## Line and Scatter Charts\n",
    "Convention is to import the pyplot module as plt."
   ]
  },
  {
   "cell_type": "code",
   "execution_count": 2,
   "id": "762aee95",
   "metadata": {},
   "outputs": [],
   "source": [
    "import matplotlib.pyplot as plt"
   ]
  },
  {
   "cell_type": "code",
   "execution_count": 3,
   "id": "b77a4358",
   "metadata": {},
   "outputs": [
    {
     "name": "stdout",
     "output_type": "stream",
     "text": [
      "<module 'matplotlib.pyplot' from '/usr/local/anaconda3/lib/python3.9/site-packages/matplotlib/pyplot.py'>\n"
     ]
    }
   ],
   "source": [
    "print(plt)"
   ]
  },
  {
   "cell_type": "markdown",
   "id": "4f1d255c",
   "metadata": {},
   "source": [
    "## Line Charts\n",
    "For the most basic example, we can create a sequence of numbers, then a chart (calling .plot), then call the .show method to display it.\n",
    "\n",
    "Note that the act of creating the chart and showing it are two separate acts."
   ]
  },
  {
   "cell_type": "code",
   "execution_count": null,
   "id": "951e8014",
   "metadata": {},
   "outputs": [],
   "source": []
  },
  {
   "cell_type": "code",
   "execution_count": null,
   "id": "30904367",
   "metadata": {},
   "outputs": [],
   "source": []
  },
  {
   "cell_type": "code",
   "execution_count": null,
   "id": "5a06163f",
   "metadata": {},
   "outputs": [],
   "source": []
  },
  {
   "cell_type": "code",
   "execution_count": null,
   "id": "fe43aca5",
   "metadata": {},
   "outputs": [],
   "source": []
  },
  {
   "cell_type": "code",
   "execution_count": null,
   "id": "b8df8cde",
   "metadata": {},
   "outputs": [],
   "source": []
  },
  {
   "cell_type": "code",
   "execution_count": null,
   "id": "d1cc0980",
   "metadata": {},
   "outputs": [],
   "source": []
  }
 ],
 "metadata": {
  "kernelspec": {
   "display_name": "Python 3 (ipykernel)",
   "language": "python",
   "name": "python3"
  },
  "language_info": {
   "codemirror_mode": {
    "name": "ipython",
    "version": 3
   },
   "file_extension": ".py",
   "mimetype": "text/x-python",
   "name": "python",
   "nbconvert_exporter": "python",
   "pygments_lexer": "ipython3",
   "version": "3.9.12"
  }
 },
 "nbformat": 4,
 "nbformat_minor": 5
}
